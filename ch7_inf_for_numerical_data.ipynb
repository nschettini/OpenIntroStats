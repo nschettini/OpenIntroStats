{
 "cells": [
  {
   "cell_type": "markdown",
   "metadata": {},
   "source": [
    "# Inference for numerical data"
   ]
  },
  {
   "cell_type": "markdown",
   "metadata": {},
   "source": [
    "## North Carolina births"
   ]
  },
  {
   "cell_type": "markdown",
   "metadata": {},
   "source": [
    "In 2004, the state of North Carolina released a large data set containing information on births recorded in this state. This data set is useful to researchers studying the relation between habits and practices of expectant mothers and the birth of their children. We will work with a random sample of observations from this data set."
   ]
  },
  {
   "cell_type": "markdown",
   "metadata": {},
   "source": [
    "## Exploratory analysis"
   ]
  },
  {
   "cell_type": "markdown",
   "metadata": {},
   "source": [
    "Load the `nc` data set into our notebook."
   ]
  },
  {
   "cell_type": "code",
   "execution_count": 1,
   "metadata": {},
   "outputs": [],
   "source": [
    "# for Mac OS users only!\n",
    "# if you run into any SSL certification issues, \n",
    "# you may need to run the following command for a Mac OS installation.\n",
    "# $/Applications/Python 3.x/Install Certificates.command\n",
    "# if this does not fix the issue, run this command instead.\n",
    "import os, ssl\n",
    "if (not os.environ.get('PYTHONHTTPSVERIFY', '') and\n",
    "    getattr(ssl, '_create_unverified_context', None)): \n",
    "    ssl._create_default_https_context = ssl._create_unverified_context\n",
    "\n",
    "import pandas as pd\n",
    "\n",
    "nc = pd.read_csv('https://www.openintro.org/stat/data/nc.csv')"
   ]
  },
  {
   "cell_type": "markdown",
   "metadata": {},
   "source": [
    "We have observations on 13 different variables, some categorical and some numerical. The meaning of each variable is as follows."
   ]
  },
  {
   "cell_type": "markdown",
   "metadata": {},
   "source": [
    "| variable         | description |\n",
    "| ---------------- | ------------|\n",
    "| `fage`           | father's age in years. |\n",
    "| `mage`           | mother's age in years. |\n",
    "| `mature`         | maturity status of mother. |\n",
    "| `weeks`          | length of pregnancy in weeks. |\n",
    "| `premie`         | whether the birth was classified as premature (premie) or full-term. |\n",
    "| `visits`         | number of hospital visits during pregnancy. |\n",
    "| `marital`        | whether mother is `married` or `not married` at birth. |\n",
    "| `gained`         | weight gained by mother during pregnancy in pounds. |\n",
    "| `weight`         | weight of the baby at birth in pounds. |\n",
    "| `lowbirthweight` | whether baby was classified as low birthweight (`low`) or not (`not low`). |\n",
    "| `gender`         | gender of the baby, `female` or `male`. |\n",
    "| `habit`          | status of the mother as a `nonsmoker` or a `smoker`. |\n",
    "| `whitemom`       | whether mom is `white` or `not white`. |"
   ]
  },
  {
   "cell_type": "markdown",
   "metadata": {},
   "source": [
    "<div class = 'exercise'>\n",
    "<h4>Exercise 1</h4>\n",
    "What are the cases in this data set? How many cases are there in our sample?\n",
    "</div>"
   ]
  },
  {
   "cell_type": "markdown",
   "metadata": {},
   "source": [
    "As a first step in the analysis, we should consider summaries of the data. This can be done using the `describe()` and `info()`:"
   ]
  },
  {
   "cell_type": "code",
   "execution_count": 2,
   "metadata": {},
   "outputs": [
    {
     "data": {
      "text/html": [
       "<div>\n",
       "<style scoped>\n",
       "    .dataframe tbody tr th:only-of-type {\n",
       "        vertical-align: middle;\n",
       "    }\n",
       "\n",
       "    .dataframe tbody tr th {\n",
       "        vertical-align: top;\n",
       "    }\n",
       "\n",
       "    .dataframe thead th {\n",
       "        text-align: right;\n",
       "    }\n",
       "</style>\n",
       "<table border=\"1\" class=\"dataframe\">\n",
       "  <thead>\n",
       "    <tr style=\"text-align: right;\">\n",
       "      <th></th>\n",
       "      <th>fage</th>\n",
       "      <th>mage</th>\n",
       "      <th>weeks</th>\n",
       "      <th>visits</th>\n",
       "      <th>gained</th>\n",
       "      <th>weight</th>\n",
       "    </tr>\n",
       "  </thead>\n",
       "  <tbody>\n",
       "    <tr>\n",
       "      <th>count</th>\n",
       "      <td>829.000000</td>\n",
       "      <td>1000.000000</td>\n",
       "      <td>998.000000</td>\n",
       "      <td>991.000000</td>\n",
       "      <td>973.000000</td>\n",
       "      <td>1000.00000</td>\n",
       "    </tr>\n",
       "    <tr>\n",
       "      <th>mean</th>\n",
       "      <td>30.255730</td>\n",
       "      <td>27.000000</td>\n",
       "      <td>38.334669</td>\n",
       "      <td>12.104945</td>\n",
       "      <td>30.325797</td>\n",
       "      <td>7.10100</td>\n",
       "    </tr>\n",
       "    <tr>\n",
       "      <th>std</th>\n",
       "      <td>6.763766</td>\n",
       "      <td>6.213583</td>\n",
       "      <td>2.931553</td>\n",
       "      <td>3.954934</td>\n",
       "      <td>14.241297</td>\n",
       "      <td>1.50886</td>\n",
       "    </tr>\n",
       "    <tr>\n",
       "      <th>min</th>\n",
       "      <td>14.000000</td>\n",
       "      <td>13.000000</td>\n",
       "      <td>20.000000</td>\n",
       "      <td>0.000000</td>\n",
       "      <td>0.000000</td>\n",
       "      <td>1.00000</td>\n",
       "    </tr>\n",
       "    <tr>\n",
       "      <th>25%</th>\n",
       "      <td>25.000000</td>\n",
       "      <td>22.000000</td>\n",
       "      <td>37.000000</td>\n",
       "      <td>10.000000</td>\n",
       "      <td>20.000000</td>\n",
       "      <td>6.38000</td>\n",
       "    </tr>\n",
       "    <tr>\n",
       "      <th>50%</th>\n",
       "      <td>30.000000</td>\n",
       "      <td>27.000000</td>\n",
       "      <td>39.000000</td>\n",
       "      <td>12.000000</td>\n",
       "      <td>30.000000</td>\n",
       "      <td>7.31000</td>\n",
       "    </tr>\n",
       "    <tr>\n",
       "      <th>75%</th>\n",
       "      <td>35.000000</td>\n",
       "      <td>32.000000</td>\n",
       "      <td>40.000000</td>\n",
       "      <td>15.000000</td>\n",
       "      <td>38.000000</td>\n",
       "      <td>8.06000</td>\n",
       "    </tr>\n",
       "    <tr>\n",
       "      <th>max</th>\n",
       "      <td>55.000000</td>\n",
       "      <td>50.000000</td>\n",
       "      <td>45.000000</td>\n",
       "      <td>30.000000</td>\n",
       "      <td>85.000000</td>\n",
       "      <td>11.75000</td>\n",
       "    </tr>\n",
       "  </tbody>\n",
       "</table>\n",
       "</div>"
      ],
      "text/plain": [
       "             fage         mage       weeks      visits      gained      weight\n",
       "count  829.000000  1000.000000  998.000000  991.000000  973.000000  1000.00000\n",
       "mean    30.255730    27.000000   38.334669   12.104945   30.325797     7.10100\n",
       "std      6.763766     6.213583    2.931553    3.954934   14.241297     1.50886\n",
       "min     14.000000    13.000000   20.000000    0.000000    0.000000     1.00000\n",
       "25%     25.000000    22.000000   37.000000   10.000000   20.000000     6.38000\n",
       "50%     30.000000    27.000000   39.000000   12.000000   30.000000     7.31000\n",
       "75%     35.000000    32.000000   40.000000   15.000000   38.000000     8.06000\n",
       "max     55.000000    50.000000   45.000000   30.000000   85.000000    11.75000"
      ]
     },
     "execution_count": 2,
     "metadata": {},
     "output_type": "execute_result"
    }
   ],
   "source": [
    "nc.describe()"
   ]
  },
  {
   "cell_type": "code",
   "execution_count": 3,
   "metadata": {},
   "outputs": [
    {
     "name": "stdout",
     "output_type": "stream",
     "text": [
      "<class 'pandas.core.frame.DataFrame'>\n",
      "RangeIndex: 1000 entries, 0 to 999\n",
      "Data columns (total 13 columns):\n",
      "fage              829 non-null float64\n",
      "mage              1000 non-null int64\n",
      "mature            1000 non-null object\n",
      "weeks             998 non-null float64\n",
      "premie            998 non-null object\n",
      "visits            991 non-null float64\n",
      "marital           999 non-null object\n",
      "gained            973 non-null float64\n",
      "weight            1000 non-null float64\n",
      "lowbirthweight    1000 non-null object\n",
      "gender            1000 non-null object\n",
      "habit             999 non-null object\n",
      "whitemom          998 non-null object\n",
      "dtypes: float64(5), int64(1), object(7)\n",
      "memory usage: 101.6+ KB\n"
     ]
    }
   ],
   "source": [
    "nc.info()"
   ]
  },
  {
   "cell_type": "markdown",
   "metadata": {},
   "source": [
    "As you review the variable summaries, consider which variables are categorical and which are numerical. For numerical variables, are there outliers? If you aren't sure or want to take a closer look at the data, make a graph.\n",
    "\n",
    "Consider the possible relationship between a mother's smoking habit and the weight of her baby. Plotting the data is a useful first step because it helps us quickly visualize trends, identify strong associations, and develop research questions."
   ]
  },
  {
   "cell_type": "markdown",
   "metadata": {},
   "source": [
    "<div class = 'exercise'>\n",
    "<h4>Exercise 2</h4>\n",
    "    Make a side-by-side boxplot of <code>habit</code> and <code>weight</code>. What does the plot highlight about the relationship between these two variables?\n",
    "</div>"
   ]
  },
  {
   "cell_type": "markdown",
   "metadata": {},
   "source": [
    "The box plots show how the medians of the two distributions compare, but we can also compare the means of the distributions using the following function to split the `weight` variable into the `habit` groups, then take the mean of each using `mean()`."
   ]
  },
  {
   "cell_type": "code",
   "execution_count": 4,
   "metadata": {},
   "outputs": [
    {
     "data": {
      "text/plain": [
       "habit\n",
       "nonsmoker    7.144273\n",
       "smoker       6.828730\n",
       "Name: weight, dtype: float64"
      ]
     },
     "execution_count": 4,
     "metadata": {},
     "output_type": "execute_result"
    }
   ],
   "source": [
    "nc.groupby(['habit'])['weight'].mean()"
   ]
  },
  {
   "cell_type": "markdown",
   "metadata": {},
   "source": [
    "There is an observed difference, but is this difference statistically significant? In order to answer this question we will conduct a hypothesis test ."
   ]
  },
  {
   "cell_type": "markdown",
   "metadata": {},
   "source": [
    "## Inference"
   ]
  },
  {
   "cell_type": "markdown",
   "metadata": {},
   "source": [
    "<div class = \"exercise\">\n",
    "<h4>Exercise 3</h4>\n",
    "Check if the conditions necessary for inference are satisfied. Note that you will need to obtain sample sizes to check the conditions. You can compute the group size using the same <code>groupby</code> command above but replacing <code>mean</code> with <code>size</code>.\n",
    "</div>"
   ]
  },
  {
   "cell_type": "markdown",
   "metadata": {},
   "source": [
    "<div class = \"exercise\">\n",
    "<h4>Exercise 4</h4>\n",
    "Write the hypotheses for testing if the average weights of babies born to smoking and non-smoking mothers are different.\n",
    "</div>"
   ]
  },
  {
   "cell_type": "markdown",
   "metadata": {},
   "source": [
    "We will now conduct hypothesis tests for testing if the average weights of babies born to smoking and non-smoking mothers are different. For this task, we can use [`statsmodels`](https://www.statsmodels.org/stable/index.html), a Python module that provides classes and functions for the estimation of many different statistical models, as well as for conducting statistical tests, and statistical data exploration."
   ]
  },
  {
   "cell_type": "code",
   "execution_count": 5,
   "metadata": {},
   "outputs": [
    {
     "name": "stdout",
     "output_type": "stream",
     "text": [
      "n_smoker = 126.0\n",
      "mean_smoker = 6.828730158730159\n",
      "sd_smoker = 1.3806681061171728\n",
      "\n",
      "n_nonsmoker = 873.0\n",
      "mean_nonsmoker = 7.1442726231386\n",
      "sd_nonsmoker = 1.5178105512705897\n",
      "\n",
      "Standard error = 0.13376049190705977\n",
      "Test statistic: Z = -2.359010944933488\n",
      "p-value = 0.018323715325166846\n",
      "reject null hypothesis\n"
     ]
    }
   ],
   "source": [
    "import statsmodels.stats.weightstats as st\n",
    "\n",
    "nc_weightANDsmoker = nc[nc['habit'] == 'smoker']['weight']\n",
    "nc_weightANDnonsmoker = nc[nc['habit'] == 'nonsmoker']['weight']\n",
    "\n",
    "dsw1 = st.DescrStatsW(nc_weightANDsmoker)\n",
    "dsw2 = st.DescrStatsW(nc_weightANDnonsmoker)\n",
    "cm = st.CompareMeans(dsw1, dsw2)\n",
    "\n",
    "# calculate number of observations, mean and standard deviation for each group\n",
    "n_smoker = dsw1.nobs\n",
    "n_nonsmoker = dsw2.nobs\n",
    "mean_smoker = dsw1.mean\n",
    "mean_nonsmoker = dsw2.mean\n",
    "sd_smoker = dsw1.std\n",
    "sd_nonsmoker = dsw2.std\n",
    "print(f'n_smoker = {n_smoker}')\n",
    "print(f'mean_smoker = {mean_smoker}')\n",
    "print(f'sd_smoker = {sd_smoker}')\n",
    "print()\n",
    "print(f'n_nonsmoker = {n_nonsmoker}')\n",
    "print(f'mean_nonsmoker = {mean_nonsmoker}')\n",
    "print(f'sd_nonsmoker = {sd_nonsmoker}')\n",
    "print()\n",
    "\n",
    "# conduct hypothesis test\n",
    "ht = cm.ztest_ind(alternative = 'two-sided', usevar = 'unequal', value = 0)\n",
    "\n",
    "# calculate and print the standard error, the Z-score, and p-value for the hypothesis test\n",
    "se = cm.std_meandiff_separatevar\n",
    "testZ = ht[0]\n",
    "p_value = ht[1]\n",
    "print(f'Standard error = {se}')\n",
    "print(f'Test statistic: Z = {testZ}')\n",
    "print(f'p-value = {p_value}')\n",
    "\n",
    "# reject or accept null hypothesis\n",
    "if(p_value) < 0.05:\n",
    "    print('reject null hypothesis')\n",
    "else:\n",
    "    print('accept null hypothesis')"
   ]
  },
  {
   "cell_type": "markdown",
   "metadata": {},
   "source": [
    "<div class = 'exercise'>\n",
    "<h4>Exercise 5</h4>\n",
    "Construct a confidence interval for the difference between the weights of babies born to smoking and non-smoking mothers.</div>"
   ]
  },
  {
   "cell_type": "markdown",
   "metadata": {},
   "source": [
    "---\n",
    "## On Your Own\n",
    "\n",
    "<ol>\n",
    "    <li>Calculate a 95% confidence interval for the average length of pregnancies (<code>weeks</code>) and interpret it in context. Note that since you're doing inference on a single population parameter, there is no explanatory variable, so you can omit the <code>x</code> variable from the function.</li><br>\n",
    "    <li>Calculate a new confidence interval for the same parameter at the 90% confidence level.</li><br>\n",
    "    <li>Conduct a hypothesis test evaluating whether the average weight gained by younger mothers is different than the average weight gained by mature mothers.</li><br>\n",
    "    <li>Now, a non-inference task: Determine the age cutoff for younger and mature mothers. Use a method of your choice, and explain how your method works.</li><br>\n",
    "    <li>Pick a pair of numerical and categorical variables and come up with a research question evaluating the relationship between these variables. Formulate the question in a way that it can be answered using a hypothesis test and/or a confidence interval. Answer your question with Python, report the statistical results, and also provide an explanation in plain language.</li>\n",
    "</ol>"
   ]
  },
  {
   "cell_type": "markdown",
   "metadata": {},
   "source": [
    "<div class = \"license\">\n",
    "This lab was adapted by Vural Aksakalli and Imran Ture from OpenIntro by Andrew Bray and Mine Çetinkaya-Rundel.\n",
    "</div>"
   ]
  },
  {
   "cell_type": "markdown",
   "metadata": {},
   "source": [
    "***\n",
    "www.featureranking.com"
   ]
  }
 ],
 "metadata": {
  "kernelspec": {
   "display_name": "Python 3",
   "language": "python",
   "name": "python3"
  },
  "language_info": {
   "codemirror_mode": {
    "name": "ipython",
    "version": 3
   },
   "file_extension": ".py",
   "mimetype": "text/x-python",
   "name": "python",
   "nbconvert_exporter": "python",
   "pygments_lexer": "ipython3",
   "version": "3.7.3"
  }
 },
 "nbformat": 4,
 "nbformat_minor": 2
}
